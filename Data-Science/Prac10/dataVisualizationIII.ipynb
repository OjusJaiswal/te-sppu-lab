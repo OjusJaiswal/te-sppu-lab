{
 "cells": [
  {
   "cell_type": "markdown",
   "id": "b760e31b-4972-402c-b664-c9505b58bca6",
   "metadata": {},
   "source": [
    "### Data Science And Big Data Analytics Practical - 10\n",
    "==================================================================================================================================\n",
    "### Name:- Ojus Jaiswal\n",
    "###  Roll no:- TACO19108\n",
    "### Class:- TE A (COMPUTER)\n",
    "\n",
    "## Problem Statement - \n",
    "# Data Visualization III\n",
    "### Download the Iris flower dataset or any other dataset into a DataFrame. (eg - https://archive.ics.uci.edu/ml/datasets/lris ). Scan the dataset and give the inference as: \n",
    "### 1. How many features are there and what are their types (e.g., numeric, nominal)?\n",
    "### 2. Create a histogram for each feature in the dataset to illustrate the feature distributions.\n",
    "### 3. Create a boxplot for each feature in the dataset.\n",
    "### 4.Compare distributions and identify outliers "
   ]
  },
  {
   "cell_type": "code",
   "execution_count": 89,
   "id": "db3cf9c9-60cd-4719-b274-33c54d37d343",
   "metadata": {},
   "outputs": [],
   "source": [
    "import matplotlib.pyplot as plt\n",
    "import pandas as pd"
   ]
  },
  {
   "cell_type": "code",
   "execution_count": 90,
   "id": "a14c2f85-2a14-430f-9386-31ae2ffcc819",
   "metadata": {},
   "outputs": [],
   "source": [
    "url_link = 'https://raw.githubusercontent.com/OjusJaiswal/te-sppu-lab/main/Data-Science/Prac10/iris.csv'\n",
    "df = pd.read_csv(url_link, header=None)\n",
    "headers = [\"Sepal-length\" , \"Sepal-width\", \"Petal-length\" , \"Petal-width\" , \"Species\" ]\n",
    "df.columns = headers"
   ]
  },
  {
   "cell_type": "code",
   "execution_count": 91,
   "id": "ae5140fd-3eba-4ce8-a765-2014da749c32",
   "metadata": {},
   "outputs": [
    {
     "name": "stdout",
     "output_type": "stream",
     "text": [
      "   Sepal-length  Sepal-width  Petal-length  Petal-width  Species\n",
      "0  sepal_length  sepal_width  petal_length  petal_width  species\n",
      "1           5.1          3.5           1.4          0.2   setosa\n",
      "2           4.9          3.0           1.4          0.2   setosa\n",
      "3           4.7          3.2           1.3          0.2   setosa\n",
      "4           4.6          3.1           1.5          0.2   setosa\n"
     ]
    }
   ],
   "source": [
    "print ( df . head())"
   ]
  },
  {
   "cell_type": "code",
   "execution_count": 92,
   "id": "2d6e0c98-30fd-4ea2-9a84-a71941600963",
   "metadata": {},
   "outputs": [
    {
     "name": "stdout",
     "output_type": "stream",
     "text": [
      "    Sepal-length Sepal-width Petal-length Petal-width    Species\n",
      "146          6.7         3.0          5.2         2.3  virginica\n",
      "147          6.3         2.5          5.0         1.9  virginica\n",
      "148          6.5         3.0          5.2         2.0  virginica\n",
      "149          6.2         3.4          5.4         2.3  virginica\n",
      "150          5.9         3.0          5.1         1.8  virginica\n"
     ]
    }
   ],
   "source": [
    "print(df .tail())"
   ]
  },
  {
   "cell_type": "code",
   "execution_count": 93,
   "id": "d650cfc2-ccbc-4440-9d0d-c91ba59a9ccb",
   "metadata": {},
   "outputs": [
    {
     "name": "stdout",
     "output_type": "stream",
     "text": [
      "<class 'pandas.core.frame.DataFrame'>\n",
      "RangeIndex: 151 entries, 0 to 150\n",
      "Data columns (total 5 columns):\n",
      " #   Column        Non-Null Count  Dtype \n",
      "---  ------        --------------  ----- \n",
      " 0   Sepal-length  151 non-null    object\n",
      " 1   Sepal-width   151 non-null    object\n",
      " 2   Petal-length  151 non-null    object\n",
      " 3   Petal-width   151 non-null    object\n",
      " 4   Species       151 non-null    object\n",
      "dtypes: object(5)\n",
      "memory usage: 6.0+ KB\n",
      "None\n"
     ]
    }
   ],
   "source": [
    "print ( df . info())"
   ]
  },
  {
   "cell_type": "code",
   "execution_count": 94,
   "id": "401430c7-1fe9-4092-9fac-fd9c22b34209",
   "metadata": {},
   "outputs": [
    {
     "name": "stdout",
     "output_type": "stream",
     "text": [
      "(151, 5)\n"
     ]
    }
   ],
   "source": [
    "print(df .shape)"
   ]
  },
  {
   "cell_type": "code",
   "execution_count": 95,
   "id": "987c86a3-f9df-4fdf-9d6c-220c68b53d6b",
   "metadata": {},
   "outputs": [
    {
     "name": "stdout",
     "output_type": "stream",
     "text": [
      "Sepal-length    object\n",
      "Sepal-width     object\n",
      "Petal-length    object\n",
      "Petal-width     object\n",
      "Species         object\n",
      "dtype: object\n"
     ]
    }
   ],
   "source": [
    "print(df .dtypes )"
   ]
  },
  {
   "cell_type": "code",
   "execution_count": 96,
   "id": "3e4718d7-f3a7-43b5-a80d-5a8ff474954c",
   "metadata": {},
   "outputs": [
    {
     "name": "stdout",
     "output_type": "stream",
     "text": [
      "       Sepal-length Sepal-width Petal-length Petal-width Species\n",
      "count           151         151          151         151     151\n",
      "unique           36          24           44          23       4\n",
      "top             5.0         3.0          1.5         0.2  setosa\n",
      "freq             10          26           13          29      50\n"
     ]
    }
   ],
   "source": [
    "print(df.describe())"
   ]
  },
  {
   "cell_type": "code",
   "execution_count": 97,
   "id": "03964195-a3ed-4ba2-b914-cc7df9bfa0bc",
   "metadata": {},
   "outputs": [
    {
     "ename": "KeyError",
     "evalue": "'Sepal_length'",
     "output_type": "error",
     "traceback": [
      "\u001b[1;31m---------------------------------------------------------------------------\u001b[0m",
      "\u001b[1;31mKeyError\u001b[0m                                  Traceback (most recent call last)",
      "Input \u001b[1;32mIn [97]\u001b[0m, in \u001b[0;36m<cell line: 1>\u001b[1;34m()\u001b[0m\n\u001b[1;32m----> 1\u001b[0m \u001b[43mdf\u001b[49m\u001b[38;5;241;43m.\u001b[39;49m\u001b[43mgroupby\u001b[49m\u001b[43m(\u001b[49m\u001b[38;5;124;43m'\u001b[39;49m\u001b[38;5;124;43mSepal_length\u001b[39;49m\u001b[38;5;124;43m'\u001b[39;49m\u001b[43m)\u001b[49m[\u001b[38;5;124m'\u001b[39m\u001b[38;5;124mSepal_width\u001b[39m\u001b[38;5;124m'\u001b[39m]\u001b[38;5;241m.\u001b[39msum()\u001b[38;5;241m.\u001b[39msort_values(ascending\u001b[38;5;241m=\u001b[39m\u001b[38;5;28;01mFalse\u001b[39;00m)\u001b[38;5;241m.\u001b[39mplot(kind\u001b[38;5;241m=\u001b[39m\u001b[38;5;124m'\u001b[39m\u001b[38;5;124mbar\u001b[39m\u001b[38;5;124m'\u001b[39m)\n\u001b[0;32m      2\u001b[0m plt\u001b[38;5;241m.\u001b[39mshow()\n",
      "File \u001b[1;32m~\\AppData\\Local\\Programs\\Python\\Python310\\lib\\site-packages\\pandas\\core\\frame.py:7706\u001b[0m, in \u001b[0;36mDataFrame.groupby\u001b[1;34m(self, by, axis, level, as_index, sort, group_keys, squeeze, observed, dropna)\u001b[0m\n\u001b[0;32m   7701\u001b[0m axis \u001b[38;5;241m=\u001b[39m \u001b[38;5;28mself\u001b[39m\u001b[38;5;241m.\u001b[39m_get_axis_number(axis)\n\u001b[0;32m   7703\u001b[0m \u001b[38;5;66;03m# https://github.com/python/mypy/issues/7642\u001b[39;00m\n\u001b[0;32m   7704\u001b[0m \u001b[38;5;66;03m# error: Argument \"squeeze\" to \"DataFrameGroupBy\" has incompatible type\u001b[39;00m\n\u001b[0;32m   7705\u001b[0m \u001b[38;5;66;03m# \"Union[bool, NoDefault]\"; expected \"bool\"\u001b[39;00m\n\u001b[1;32m-> 7706\u001b[0m \u001b[38;5;28;01mreturn\u001b[39;00m \u001b[43mDataFrameGroupBy\u001b[49m\u001b[43m(\u001b[49m\n\u001b[0;32m   7707\u001b[0m \u001b[43m    \u001b[49m\u001b[43mobj\u001b[49m\u001b[38;5;241;43m=\u001b[39;49m\u001b[38;5;28;43mself\u001b[39;49m\u001b[43m,\u001b[49m\n\u001b[0;32m   7708\u001b[0m \u001b[43m    \u001b[49m\u001b[43mkeys\u001b[49m\u001b[38;5;241;43m=\u001b[39;49m\u001b[43mby\u001b[49m\u001b[43m,\u001b[49m\n\u001b[0;32m   7709\u001b[0m \u001b[43m    \u001b[49m\u001b[43maxis\u001b[49m\u001b[38;5;241;43m=\u001b[39;49m\u001b[43maxis\u001b[49m\u001b[43m,\u001b[49m\n\u001b[0;32m   7710\u001b[0m \u001b[43m    \u001b[49m\u001b[43mlevel\u001b[49m\u001b[38;5;241;43m=\u001b[39;49m\u001b[43mlevel\u001b[49m\u001b[43m,\u001b[49m\n\u001b[0;32m   7711\u001b[0m \u001b[43m    \u001b[49m\u001b[43mas_index\u001b[49m\u001b[38;5;241;43m=\u001b[39;49m\u001b[43mas_index\u001b[49m\u001b[43m,\u001b[49m\n\u001b[0;32m   7712\u001b[0m \u001b[43m    \u001b[49m\u001b[43msort\u001b[49m\u001b[38;5;241;43m=\u001b[39;49m\u001b[43msort\u001b[49m\u001b[43m,\u001b[49m\n\u001b[0;32m   7713\u001b[0m \u001b[43m    \u001b[49m\u001b[43mgroup_keys\u001b[49m\u001b[38;5;241;43m=\u001b[39;49m\u001b[43mgroup_keys\u001b[49m\u001b[43m,\u001b[49m\n\u001b[0;32m   7714\u001b[0m \u001b[43m    \u001b[49m\u001b[43msqueeze\u001b[49m\u001b[38;5;241;43m=\u001b[39;49m\u001b[43msqueeze\u001b[49m\u001b[43m,\u001b[49m\u001b[43m  \u001b[49m\u001b[38;5;66;43;03m# type: ignore[arg-type]\u001b[39;49;00m\n\u001b[0;32m   7715\u001b[0m \u001b[43m    \u001b[49m\u001b[43mobserved\u001b[49m\u001b[38;5;241;43m=\u001b[39;49m\u001b[43mobserved\u001b[49m\u001b[43m,\u001b[49m\n\u001b[0;32m   7716\u001b[0m \u001b[43m    \u001b[49m\u001b[43mdropna\u001b[49m\u001b[38;5;241;43m=\u001b[39;49m\u001b[43mdropna\u001b[49m\u001b[43m,\u001b[49m\n\u001b[0;32m   7717\u001b[0m \u001b[43m\u001b[49m\u001b[43m)\u001b[49m\n",
      "File \u001b[1;32m~\\AppData\\Local\\Programs\\Python\\Python310\\lib\\site-packages\\pandas\\core\\groupby\\groupby.py:882\u001b[0m, in \u001b[0;36mGroupBy.__init__\u001b[1;34m(self, obj, keys, axis, level, grouper, exclusions, selection, as_index, sort, group_keys, squeeze, observed, mutated, dropna)\u001b[0m\n\u001b[0;32m    879\u001b[0m \u001b[38;5;28;01mif\u001b[39;00m grouper \u001b[38;5;129;01mis\u001b[39;00m \u001b[38;5;28;01mNone\u001b[39;00m:\n\u001b[0;32m    880\u001b[0m     \u001b[38;5;28;01mfrom\u001b[39;00m \u001b[38;5;21;01mpandas\u001b[39;00m\u001b[38;5;21;01m.\u001b[39;00m\u001b[38;5;21;01mcore\u001b[39;00m\u001b[38;5;21;01m.\u001b[39;00m\u001b[38;5;21;01mgroupby\u001b[39;00m\u001b[38;5;21;01m.\u001b[39;00m\u001b[38;5;21;01mgrouper\u001b[39;00m \u001b[38;5;28;01mimport\u001b[39;00m get_grouper\n\u001b[1;32m--> 882\u001b[0m     grouper, exclusions, obj \u001b[38;5;241m=\u001b[39m \u001b[43mget_grouper\u001b[49m\u001b[43m(\u001b[49m\n\u001b[0;32m    883\u001b[0m \u001b[43m        \u001b[49m\u001b[43mobj\u001b[49m\u001b[43m,\u001b[49m\n\u001b[0;32m    884\u001b[0m \u001b[43m        \u001b[49m\u001b[43mkeys\u001b[49m\u001b[43m,\u001b[49m\n\u001b[0;32m    885\u001b[0m \u001b[43m        \u001b[49m\u001b[43maxis\u001b[49m\u001b[38;5;241;43m=\u001b[39;49m\u001b[43maxis\u001b[49m\u001b[43m,\u001b[49m\n\u001b[0;32m    886\u001b[0m \u001b[43m        \u001b[49m\u001b[43mlevel\u001b[49m\u001b[38;5;241;43m=\u001b[39;49m\u001b[43mlevel\u001b[49m\u001b[43m,\u001b[49m\n\u001b[0;32m    887\u001b[0m \u001b[43m        \u001b[49m\u001b[43msort\u001b[49m\u001b[38;5;241;43m=\u001b[39;49m\u001b[43msort\u001b[49m\u001b[43m,\u001b[49m\n\u001b[0;32m    888\u001b[0m \u001b[43m        \u001b[49m\u001b[43mobserved\u001b[49m\u001b[38;5;241;43m=\u001b[39;49m\u001b[43mobserved\u001b[49m\u001b[43m,\u001b[49m\n\u001b[0;32m    889\u001b[0m \u001b[43m        \u001b[49m\u001b[43mmutated\u001b[49m\u001b[38;5;241;43m=\u001b[39;49m\u001b[38;5;28;43mself\u001b[39;49m\u001b[38;5;241;43m.\u001b[39;49m\u001b[43mmutated\u001b[49m\u001b[43m,\u001b[49m\n\u001b[0;32m    890\u001b[0m \u001b[43m        \u001b[49m\u001b[43mdropna\u001b[49m\u001b[38;5;241;43m=\u001b[39;49m\u001b[38;5;28;43mself\u001b[39;49m\u001b[38;5;241;43m.\u001b[39;49m\u001b[43mdropna\u001b[49m\u001b[43m,\u001b[49m\n\u001b[0;32m    891\u001b[0m \u001b[43m    \u001b[49m\u001b[43m)\u001b[49m\n\u001b[0;32m    893\u001b[0m \u001b[38;5;28mself\u001b[39m\u001b[38;5;241m.\u001b[39mobj \u001b[38;5;241m=\u001b[39m obj\n\u001b[0;32m    894\u001b[0m \u001b[38;5;28mself\u001b[39m\u001b[38;5;241m.\u001b[39maxis \u001b[38;5;241m=\u001b[39m obj\u001b[38;5;241m.\u001b[39m_get_axis_number(axis)\n",
      "File \u001b[1;32m~\\AppData\\Local\\Programs\\Python\\Python310\\lib\\site-packages\\pandas\\core\\groupby\\grouper.py:882\u001b[0m, in \u001b[0;36mget_grouper\u001b[1;34m(obj, key, axis, level, sort, observed, mutated, validate, dropna)\u001b[0m\n\u001b[0;32m    880\u001b[0m         in_axis, level, gpr \u001b[38;5;241m=\u001b[39m \u001b[38;5;28;01mFalse\u001b[39;00m, gpr, \u001b[38;5;28;01mNone\u001b[39;00m\n\u001b[0;32m    881\u001b[0m     \u001b[38;5;28;01melse\u001b[39;00m:\n\u001b[1;32m--> 882\u001b[0m         \u001b[38;5;28;01mraise\u001b[39;00m \u001b[38;5;167;01mKeyError\u001b[39;00m(gpr)\n\u001b[0;32m    883\u001b[0m \u001b[38;5;28;01melif\u001b[39;00m \u001b[38;5;28misinstance\u001b[39m(gpr, Grouper) \u001b[38;5;129;01mand\u001b[39;00m gpr\u001b[38;5;241m.\u001b[39mkey \u001b[38;5;129;01mis\u001b[39;00m \u001b[38;5;129;01mnot\u001b[39;00m \u001b[38;5;28;01mNone\u001b[39;00m:\n\u001b[0;32m    884\u001b[0m     \u001b[38;5;66;03m# Add key to exclusions\u001b[39;00m\n\u001b[0;32m    885\u001b[0m     exclusions\u001b[38;5;241m.\u001b[39madd(gpr\u001b[38;5;241m.\u001b[39mkey)\n",
      "\u001b[1;31mKeyError\u001b[0m: 'Sepal_length'"
     ]
    }
   ],
   "source": [
    "df.groupby('Sepal_length')['Sepal_width'].sum().sort_values(ascending=False).plot(kind='bar')\n",
    "plt.show()"
   ]
  },
  {
   "cell_type": "code",
   "execution_count": null,
   "id": "0a04ef3f-ee5b-4f70-bd18-ea0e7918c08f",
   "metadata": {},
   "outputs": [],
   "source": [
    "df.boxplot()\n",
    "plt.show()"
   ]
  },
  {
   "cell_type": "code",
   "execution_count": null,
   "id": "dc24c869-f121-4a9d-9f62-763477ee889c",
   "metadata": {},
   "outputs": [],
   "source": [
    "plt.scatter(df[\"Sepal- length\" ], df[\"Sepal-width\" ] )\n",
    "plt.xlabel('Sepal Length')\n",
    "plt.ylabel('Sepal Width')\n",
    "plt. show()"
   ]
  },
  {
   "cell_type": "code",
   "execution_count": null,
   "id": "6c5e8092-2934-4c1b-b135-9fe4a18c548b",
   "metadata": {},
   "outputs": [],
   "source": [
    "plt.scatter(df [\"Sepal-length\" ], df [\"Petal-length'\" ] )\n",
    "plt.xlabel('Sepal Length')"
   ]
  },
  {
   "cell_type": "code",
   "execution_count": null,
   "id": "49e7e74f-941d-4776-b770-8ae0377e5bfe",
   "metadata": {},
   "outputs": [],
   "source": [
    "plt.ylabel('Petal Width')\n",
    "plt.show()"
   ]
  },
  {
   "cell_type": "code",
   "execution_count": null,
   "id": "62e6a3b6-7411-4762-a4e4-7fa0996a21f9",
   "metadata": {},
   "outputs": [],
   "source": [
    "plt.scatter(df[\"Sepal-l ength\"], df[\"Petal-width\"] )\n",
    "plt.xlabel('Sepal Length')\n",
    "plt.xlabel('Petal Width')\n",
    "plt.show()"
   ]
  },
  {
   "cell_type": "code",
   "execution_count": null,
   "id": "51c72835-be4c-4c98-8c32-886c5d7fd8b5",
   "metadata": {},
   "outputs": [],
   "source": [
    "plt.scatter(df [\"Sepal-width\"] , df[\"Sepal- length\"])"
   ]
  },
  {
   "cell_type": "code",
   "execution_count": null,
   "id": "74b1afe4-8c2c-4e3e-bf06-d3646d335fc5",
   "metadata": {},
   "outputs": [],
   "source": [
    "plt.xlabel('Sepal Width')\n",
    "plt.ylabel('Sepal Length')\n",
    "plt.show()"
   ]
  },
  {
   "cell_type": "code",
   "execution_count": null,
   "id": "29ffdb23-5e68-4645-9ac2-91809cf7422a",
   "metadata": {},
   "outputs": [],
   "source": [
    "plt.scatter(df[\"Sepal-width\" ], df[\"Petal-length\" ] )\n",
    "plt.xlabel('Sepal Width')\n",
    "plt.ylabel('Petal Length')\n",
    "plt.show()"
   ]
  },
  {
   "cell_type": "code",
   "execution_count": null,
   "id": "a7cf5d29-ce78-4dba-ba1c-ab82d893ce9d",
   "metadata": {},
   "outputs": [],
   "source": [
    "plt.scatter(df[\"Sepal-width\"], df[\"Petal-width\"])\n",
    "plt.xlabel('Sepal Width')\n",
    "plt.ylabel ('Petal Width')\n",
    "plt.show()"
   ]
  },
  {
   "cell_type": "code",
   "execution_count": null,
   "id": "9b71ff86-1675-4f5f-8b49-171fcd0bfb0e",
   "metadata": {},
   "outputs": [],
   "source": [
    "plt.scatter(df[\"Petal-length\"], df[\"Sepal-length\"])\n",
    "plt.xlabel('Petal Length')\n",
    "plt.ylabel('Sepal Length')\n",
    "plt.show()"
   ]
  },
  {
   "cell_type": "code",
   "execution_count": null,
   "id": "49dc39c2-b336-42c1-96f5-fdcf48cd0e6b",
   "metadata": {},
   "outputs": [],
   "source": [
    "plt.scatter(df[\"Petal-length\"], df[\"Sepal-width\"])\n",
    "plt.xlabel('Petal Length')\n",
    "plt.ylabel('Sepal Width')\n",
    "plt.show()"
   ]
  },
  {
   "cell_type": "code",
   "execution_count": null,
   "id": "68ecb711-9ab7-4949-bf5d-c9c1b018571d",
   "metadata": {},
   "outputs": [],
   "source": [
    "plt.scatter(df[\"Petal-length\" ], df[\"Petal-width\"])\n",
    "plt.xlabel( 'Petal Length' )\n",
    "plt.ylabel( 'Petal Width' )\n",
    "plt.show()"
   ]
  },
  {
   "cell_type": "code",
   "execution_count": null,
   "id": "c020c8ae-d8f7-41c7-bce9-896e2502dff6",
   "metadata": {},
   "outputs": [],
   "source": [
    "plt.scatter(df[\"Petal-width\"],df[\"Sepal-length\"])\n",
    "plt.xlabel('Petal Width')\n",
    "plt.xlabel ('Sepal Length')\n",
    "plt.show()"
   ]
  },
  {
   "cell_type": "code",
   "execution_count": null,
   "id": "9e156155-75fe-4ba9-b3bd-44508557c0b4",
   "metadata": {},
   "outputs": [],
   "source": [
    "plt.scatter(df[\"Petal-width\"], df[\"Sepal-width\"])\n",
    "plt.xlabel('Petal Width')\n",
    "plt.xlabel('Sepal Width')\n",
    "plt.show()"
   ]
  },
  {
   "cell_type": "code",
   "execution_count": null,
   "id": "d556c357-0a99-4c0f-8cd1-989614f460ea",
   "metadata": {},
   "outputs": [],
   "source": [
    "plt.scatter(df[\"Petal-width\"],df[\"Petal-length\"])\n",
    "plt.xlabel('Petal Width')\n",
    "plt.xlabel('Petal Length')\n",
    "plt.show()"
   ]
  }
 ],
 "metadata": {
  "kernelspec": {
   "display_name": "Python 3 (ipykernel)",
   "language": "python",
   "name": "python3"
  },
  "language_info": {
   "codemirror_mode": {
    "name": "ipython",
    "version": 3
   },
   "file_extension": ".py",
   "mimetype": "text/x-python",
   "name": "python",
   "nbconvert_exporter": "python",
   "pygments_lexer": "ipython3",
   "version": "3.10.2"
  }
 },
 "nbformat": 4,
 "nbformat_minor": 5
}
